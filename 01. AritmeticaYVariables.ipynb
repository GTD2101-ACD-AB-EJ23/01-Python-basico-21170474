{
  "cells": [
    {
      "attachments": {},
      "cell_type": "markdown",
      "metadata": {},
      "source": [
        "# Aritmética y Variables\n",
        "\n",
        "En este JNB se revisará el tema de Aritmética y Variables"
      ]
    },
    {
      "cell_type": "code",
      "execution_count": null,
      "metadata": {
        "id": "O8NoTzxjs2wK",
        "outputId": "fa4bc249-a4fa-48a6-9dc6-7733646ed223"
      },
      "outputs": [
        {
          "name": "stdout",
          "output_type": "stream",
          "text": [
            "Hello World!\n"
          ]
        }
      ],
      "source": [
        "print(\"Hello World!\")"
      ]
    },
    {
      "attachments": {},
      "cell_type": "markdown",
      "metadata": {},
      "source": [
        "Si queremos imprimir un texto de varias lineas\n"
      ]
    },
    {
      "cell_type": "code",
      "execution_count": 1,
      "metadata": {},
      "outputs": [
        {
          "name": "stdout",
          "output_type": "stream",
          "text": [
            "Hola este es un texto \n",
            "que tiene varias líneas.\n",
            "Python es poderoso\n"
          ]
        }
      ],
      "source": [
        "texto= '''Hola este es un texto \n",
        "que tiene varias líneas.\n",
        "Python es poderoso'''\n",
        "print(texto)"
      ]
    },
    {
      "attachments": {},
      "cell_type": "markdown",
      "metadata": {},
      "source": [
        "Imprimiendo comillas dentro de comillas"
      ]
    },
    {
      "cell_type": "code",
      "execution_count": 2,
      "metadata": {},
      "outputs": [
        {
          "name": "stdout",
          "output_type": "stream",
          "text": [
            "John o'brian\n",
            "El curso esta \"dificil\"\n"
          ]
        }
      ],
      "source": [
        "print(\"John o'brian\")\n",
        "print('El curso esta \"dificil\"')"
      ]
    },
    {
      "attachments": {},
      "cell_type": "markdown",
      "metadata": {},
      "source": [
        "## Comentarios.\n",
        "### en Python\n",
        "Para colocar comentarios en Python usar el símbolo #."
      ]
    },
    {
      "cell_type": "code",
      "execution_count": 3,
      "metadata": {},
      "outputs": [
        {
          "name": "stdout",
          "output_type": "stream",
          "text": [
            "El curso está \"dificil\"\n",
            "El curso está \"dificil\", mi nombre es Jose Sanchez\n"
          ]
        }
      ],
      "source": [
        "\"\"\" la siguiente instrucción imprime un texto utilizando f-string.\n",
        "otra linea\n",
        "Línea 3  \"\"\"\n",
        "nombre = \"Jose\"\n",
        "apellido = \"Sanchez\"\n",
        "print(f\"El curso está \\\"dificil\\\"\")\n",
        "print(f\"El curso está \\\"dificil\\\", mi nombre es {nombre} {apellido}\")"
      ]
    },
    {
      "attachments": {},
      "cell_type": "markdown",
      "metadata": {},
      "source": [
        "## Variables.\n"
      ]
    },
    {
      "cell_type": "code",
      "execution_count": 4,
      "metadata": {},
      "outputs": [
        {
          "name": "stdout",
          "output_type": "stream",
          "text": [
            "<class 'str'>\n",
            "<class 'int'>\n"
          ]
        }
      ],
      "source": [
        "años= 20\n",
        "nombre = \"Jose Sanchez\"\n",
        "print(type(nombre))\n",
        "print(type(años))\n"
      ]
    }
  ],
  "metadata": {
    "colab": {
      "include_colab_link": true,
      "provenance": []
    },
    "kernelspec": {
      "display_name": "Python 3",
      "language": "python",
      "name": "python3"
    },
    "language_info": {
      "codemirror_mode": {
        "name": "ipython",
        "version": 3
      },
      "file_extension": ".py",
      "mimetype": "text/x-python",
      "name": "python",
      "nbconvert_exporter": "python",
      "pygments_lexer": "ipython3",
      "version": "3.10.4"
    },
    "orig_nbformat": 4,
    "vscode": {
      "interpreter": {
        "hash": "3ad933181bd8a04b432d3370b9dc3b0662ad032c4dfaa4e4f1596c548f763858"
      }
    }
  },
  "nbformat": 4,
  "nbformat_minor": 0
}
